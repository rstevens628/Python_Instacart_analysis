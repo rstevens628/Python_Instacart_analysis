{
 "cells": [
  {
   "cell_type": "markdown",
   "id": "1750f8b4",
   "metadata": {},
   "source": [
    "# 01. Importing libraries"
   ]
  },
  {
   "cell_type": "code",
   "execution_count": 1,
   "id": "68d7b162",
   "metadata": {},
   "outputs": [],
   "source": [
    "# Import libraries\n",
    "import pandas as pd\n",
    "import numpy as np\n",
    "import os"
   ]
  },
  {
   "cell_type": "markdown",
   "id": "604c7c2e",
   "metadata": {},
   "source": [
    "# 02. Data types"
   ]
  },
  {
   "cell_type": "code",
   "execution_count": 7,
   "id": "c3b2b0de",
   "metadata": {},
   "outputs": [],
   "source": [
    "x = 25"
   ]
  },
  {
   "cell_type": "code",
   "execution_count": 9,
   "id": "6d527612",
   "metadata": {},
   "outputs": [],
   "source": [
    "y = 75"
   ]
  },
  {
   "cell_type": "code",
   "execution_count": 11,
   "id": "c1346f1b",
   "metadata": {},
   "outputs": [
    {
     "data": {
      "text/plain": [
       "100"
      ]
     },
     "execution_count": 11,
     "metadata": {},
     "output_type": "execute_result"
    }
   ],
   "source": [
    "x + y"
   ]
  },
  {
   "cell_type": "code",
   "execution_count": 12,
   "id": "de38dee6",
   "metadata": {},
   "outputs": [],
   "source": [
    "z = 125"
   ]
  },
  {
   "cell_type": "code",
   "execution_count": 13,
   "id": "4387bf36",
   "metadata": {},
   "outputs": [
    {
     "data": {
      "text/plain": [
       "100"
      ]
     },
     "execution_count": 13,
     "metadata": {},
     "output_type": "execute_result"
    }
   ],
   "source": [
    "z - x"
   ]
  },
  {
   "cell_type": "code",
   "execution_count": 14,
   "id": "8bc6df35",
   "metadata": {},
   "outputs": [
    {
     "data": {
      "text/plain": [
       "100"
      ]
     },
     "execution_count": 14,
     "metadata": {},
     "output_type": "execute_result"
    }
   ],
   "source": [
    "z - y + (x * 2)"
   ]
  },
  {
   "cell_type": "code",
   "execution_count": 15,
   "id": "4d635eed",
   "metadata": {},
   "outputs": [],
   "source": [
    "a = 5.5"
   ]
  },
  {
   "cell_type": "code",
   "execution_count": 17,
   "id": "dc7e217e",
   "metadata": {},
   "outputs": [],
   "source": [
    "b = 25.5"
   ]
  },
  {
   "cell_type": "code",
   "execution_count": 18,
   "id": "a660b686",
   "metadata": {},
   "outputs": [
    {
     "data": {
      "text/plain": [
       "0.21568627450980393"
      ]
     },
     "execution_count": 18,
     "metadata": {},
     "output_type": "execute_result"
    }
   ],
   "source": [
    "a / b"
   ]
  },
  {
   "cell_type": "code",
   "execution_count": 26,
   "id": "d4cbc90a",
   "metadata": {},
   "outputs": [],
   "source": [
    "c = 'birth'"
   ]
  },
  {
   "cell_type": "code",
   "execution_count": 27,
   "id": "4fd6530d",
   "metadata": {},
   "outputs": [],
   "source": [
    "d = 'day'"
   ]
  },
  {
   "cell_type": "code",
   "execution_count": 28,
   "id": "79b689aa",
   "metadata": {},
   "outputs": [],
   "source": [
    "e = c + d"
   ]
  },
  {
   "cell_type": "code",
   "execution_count": 29,
   "id": "d61eea9b",
   "metadata": {},
   "outputs": [
    {
     "name": "stdout",
     "output_type": "stream",
     "text": [
      "birthday\n"
     ]
    }
   ],
   "source": [
    "print(e)"
   ]
  },
  {
   "cell_type": "code",
   "execution_count": 32,
   "id": "b9b15bcf",
   "metadata": {},
   "outputs": [],
   "source": [
    "f = 'happy '"
   ]
  },
  {
   "cell_type": "code",
   "execution_count": 33,
   "id": "8c91f188",
   "metadata": {},
   "outputs": [
    {
     "data": {
      "text/plain": [
       "'happy birthday'"
      ]
     },
     "execution_count": 33,
     "metadata": {},
     "output_type": "execute_result"
    }
   ],
   "source": [
    "f + e"
   ]
  },
  {
   "cell_type": "code",
   "execution_count": 34,
   "id": "f3007cf0",
   "metadata": {},
   "outputs": [
    {
     "data": {
      "text/plain": [
       "'happy birthdayhappy birthdayhappy birthdayhappy birthdayhappy birthdayhappy birthdayhappy birthdayhappy birthdayhappy birthdayhappy birthdayhappy birthdayhappy birthdayhappy birthdayhappy birthdayhappy birthdayhappy birthdayhappy birthdayhappy birthdayhappy birthdayhappy birthdayhappy birthdayhappy birthdayhappy birthdayhappy birthdayhappy birthdayhappy birthdayhappy birthdayhappy birthdayhappy birthdayhappy birthdayhappy birthdayhappy birthdayhappy birthdayhappy birthdayhappy birthdayhappy birthdayhappy birthdayhappy birthdayhappy birthdayhappy birthdayhappy birthdayhappy birthdayhappy birthdayhappy birthdayhappy birthdayhappy birthdayhappy birthdayhappy birthdayhappy birthdayhappy birthdayhappy birthdayhappy birthdayhappy birthdayhappy birthdayhappy birthdayhappy birthdayhappy birthdayhappy birthdayhappy birthdayhappy birthdayhappy birthdayhappy birthdayhappy birthdayhappy birthdayhappy birthdayhappy birthdayhappy birthdayhappy birthdayhappy birthdayhappy birthdayhappy birthdayhappy birthdayhappy birthdayhappy birthdayhappy birthdayhappy birthdayhappy birthdayhappy birthdayhappy birthdayhappy birthdayhappy birthdayhappy birthdayhappy birthdayhappy birthdayhappy birthdayhappy birthdayhappy birthdayhappy birthdayhappy birthdayhappy birthdayhappy birthdayhappy birthdayhappy birthdayhappy birthdayhappy birthdayhappy birthdayhappy birthdayhappy birthdayhappy birthdayhappy birthday'"
      ]
     },
     "execution_count": 34,
     "metadata": {},
     "output_type": "execute_result"
    }
   ],
   "source": [
    "(f + e) * 100"
   ]
  }
 ],
 "metadata": {
  "kernelspec": {
   "display_name": "Python 3 (ipykernel)",
   "language": "python",
   "name": "python3"
  },
  "language_info": {
   "codemirror_mode": {
    "name": "ipython",
    "version": 3
   },
   "file_extension": ".py",
   "mimetype": "text/x-python",
   "name": "python",
   "nbconvert_exporter": "python",
   "pygments_lexer": "ipython3",
   "version": "3.9.7"
  }
 },
 "nbformat": 4,
 "nbformat_minor": 5
}
